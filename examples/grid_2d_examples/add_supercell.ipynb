{
 "cells": [
  {
   "cell_type": "code",
   "execution_count": 1,
   "metadata": {
    "collapsed": true
   },
   "outputs": [],
   "source": [
    "%matplotlib inline"
   ]
  },
  {
   "cell_type": "markdown",
   "metadata": {},
   "source": [
    "# 添加 SuperCell"
   ]
  },
  {
   "cell_type": "code",
   "execution_count": 2,
   "metadata": {
    "collapsed": true
   },
   "outputs": [],
   "source": [
    "from catplot.grid_components.supercell import SuperCell\n",
    "from catplot.grid_components.nodes import Node2D\n",
    "from catplot.grid_components.edges import Edge2D"
   ]
  },
  {
   "cell_type": "markdown",
   "metadata": {},
   "source": [
    "## 创建Nodes"
   ]
  },
  {
   "cell_type": "markdown",
   "metadata": {},
   "source": [
    "### 创建四个top位Node"
   ]
  },
  {
   "cell_type": "code",
   "execution_count": 3,
   "metadata": {
    "collapsed": true
   },
   "outputs": [],
   "source": [
    "t1 = Node2D([0.0, 0.0], color=\"#2277D1\")"
   ]
  },
  {
   "cell_type": "code",
   "execution_count": 4,
   "metadata": {
    "collapsed": true
   },
   "outputs": [],
   "source": [
    "t2 = t1.clone([0.0, 1.0])\n",
    "t3 = t2.clone([1.0, 0.0])\n",
    "t4 = t1.clone([1.0, 0.0])"
   ]
  },
  {
   "cell_type": "markdown",
   "metadata": {},
   "source": [
    "### 创建四个bridge位Node"
   ]
  },
  {
   "cell_type": "code",
   "execution_count": 5,
   "metadata": {
    "collapsed": true
   },
   "outputs": [],
   "source": [
    "b1 = Node2D([0.0, 0.5], color=\"#F87D05\", style=\">\")"
   ]
  },
  {
   "cell_type": "code",
   "execution_count": 6,
   "metadata": {
    "collapsed": true
   },
   "outputs": [],
   "source": [
    "b2 = b1.clone([0.5, 0.5])\n",
    "b2.style = \"v\"\n",
    "b3 = b1.clone([0.5, -0.5])\n",
    "b3.style = \"^\"\n",
    "b4 = b1.clone([1.0, 0.0])\n",
    "b4.style = \"<\""
   ]
  },
  {
   "cell_type": "markdown",
   "metadata": {},
   "source": [
    "### 创建一个hollow位Node"
   ]
  },
  {
   "cell_type": "code",
   "execution_count": 7,
   "metadata": {
    "collapsed": true
   },
   "outputs": [],
   "source": [
    "h = Node2D([0.5, 0.5], color=\"#008800\", style=\"s\")"
   ]
  },
  {
   "cell_type": "markdown",
   "metadata": {},
   "source": [
    "## 创建edges"
   ]
  },
  {
   "cell_type": "code",
   "execution_count": 8,
   "metadata": {
    "collapsed": true
   },
   "outputs": [],
   "source": [
    "from catplot.grid_components.edges import Edge2D"
   ]
  },
  {
   "cell_type": "code",
   "execution_count": 9,
   "metadata": {
    "collapsed": true
   },
   "outputs": [],
   "source": [
    "e1 = Edge2D(t1, t2)\n",
    "e2 = Edge2D(t2, t3)\n",
    "e3 = Edge2D(t3, t4)\n",
    "e4 = Edge2D(t1, t4)"
   ]
  },
  {
   "cell_type": "code",
   "execution_count": 10,
   "metadata": {
    "collapsed": true
   },
   "outputs": [],
   "source": [
    "e5 = Edge2D(b1, b2, style=\"dashed\")\n",
    "e6 = Edge2D(b1, b3, style=\"dashed\")\n",
    "e7 = Edge2D(b2, b4, style=\"dashed\")\n",
    "e8 = Edge2D(b3, b4, style=\"dashed\")"
   ]
  },
  {
   "cell_type": "markdown",
   "metadata": {},
   "source": [
    "## 创建supercell"
   ]
  },
  {
   "cell_type": "code",
   "execution_count": 11,
   "metadata": {
    "collapsed": true
   },
   "outputs": [],
   "source": [
    "from catplot.grid_components.supercell import SuperCell"
   ]
  },
  {
   "cell_type": "code",
   "execution_count": 12,
   "metadata": {},
   "outputs": [],
   "source": [
    "supercell = SuperCell([t1, t2, t3, t4, b1, b2, b3, b4, h],\n",
    "                      [e1, e2, e3, e4, e5, e6, e7, e8])"
   ]
  },
  {
   "cell_type": "markdown",
   "metadata": {},
   "source": [
    "## 创建画布"
   ]
  },
  {
   "cell_type": "code",
   "execution_count": 13,
   "metadata": {
    "collapsed": true
   },
   "outputs": [],
   "source": [
    "from catplot.grid_components.grid_canvas import Grid2DCanvas"
   ]
  },
  {
   "cell_type": "code",
   "execution_count": 14,
   "metadata": {},
   "outputs": [
    {
     "data": {
      "image/png": "[encoded data removed]",
      "text/plain": [
       "<matplotlib.figure.Figure at 0x10c75d860>"
      ]
     },
     "metadata": {},
     "output_type": "display_data"
    }
   ],
   "source": [
    "canvas = Grid2DCanvas()"
   ]
  },
  {
   "cell_type": "markdown",
   "metadata": {},
   "source": [
    "## 向画布中添加supercell"
   ]
  },
  {
   "cell_type": "code",
   "execution_count": 15,
   "metadata": {},
   "outputs": [],
   "source": [
    "canvas.add_supercell(supercell=supercell)"
   ]
  },
  {
   "cell_type": "markdown",
   "metadata": {},
   "source": [
    "## 绘制"
   ]
  },
  {
   "cell_type": "code",
   "execution_count": 16,
   "metadata": {},
   "outputs": [
    {
     "data": {
      "image/png": "[encoded data removed]",
      "text/plain": [
       "<matplotlib.figure.Figure at 0x10c75d860>"
      ]
     },
     "execution_count": 16,
     "metadata": {},
     "output_type": "execute_result"
    }
   ],
   "source": [
    "canvas.draw()\n",
    "canvas.figure"
   ]
  },
  {
   "cell_type": "markdown",
   "metadata": {},
   "source": [
    "## 克隆supercell"
   ]
  },
  {
   "cell_type": "code",
   "execution_count": 17,
   "metadata": {
    "collapsed": true
   },
   "outputs": [],
   "source": [
    "supercell_clone = supercell.clone([1.0, 0.0])"
   ]
  },
  {
   "cell_type": "code",
   "execution_count": 18,
   "metadata": {
    "collapsed": true
   },
   "outputs": [],
   "source": [
    "canvas.add_supercell(supercell_clone)"
   ]
  },
  {
   "cell_type": "code",
   "execution_count": 19,
   "metadata": {},
   "outputs": [
    {
     "data": {
      "text/plain": [
       "[<catplot.grid_components.nodes.Node2D at 0x10c73f7b8>,\n",
       " <catplot.grid_components.nodes.Node2D at 0x10c73f828>,\n",
       " <catplot.grid_components.nodes.Node2D at 0x10c73f898>,\n",
       " <catplot.grid_components.nodes.Node2D at 0x10c73f908>,\n",
       " <catplot.grid_components.nodes.Node2D at 0x10c73f978>,\n",
       " <catplot.grid_components.nodes.Node2D at 0x10c73fa58>,\n",
       " <catplot.grid_components.nodes.Node2D at 0x10c73fac8>,\n",
       " <catplot.grid_components.nodes.Node2D at 0x10c73fb38>,\n",
       " <catplot.grid_components.nodes.Node2D at 0x10c73fba8>,\n",
       " <catplot.grid_components.nodes.Node2D at 0x10c73fe48>,\n",
       " <catplot.grid_components.nodes.Node2D at 0x10cdae048>,\n",
       " <catplot.grid_components.nodes.Node2D at 0x10cdae0b8>,\n",
       " <catplot.grid_components.nodes.Node2D at 0x10cdae128>,\n",
       " <catplot.grid_components.nodes.Node2D at 0x10cdae198>,\n",
       " <catplot.grid_components.nodes.Node2D at 0x10cdae208>,\n",
       " <catplot.grid_components.nodes.Node2D at 0x10cdae278>,\n",
       " <catplot.grid_components.nodes.Node2D at 0x10cdae2e8>,\n",
       " <catplot.grid_components.nodes.Node2D at 0x10cdae358>]"
      ]
     },
     "execution_count": 19,
     "metadata": {},
     "output_type": "execute_result"
    }
   ],
   "source": [
    "canvas.nodes"
   ]
  },
  {
   "cell_type": "code",
   "execution_count": 20,
   "metadata": {},
   "outputs": [
    {
     "data": {
      "text/plain": [
       "[<catplot.grid_components.edges.Edge2D at 0x10b058e48>,\n",
       " <catplot.grid_components.edges.Edge2D at 0x10c75d518>,\n",
       " <catplot.grid_components.edges.Edge2D at 0x10c75d588>,\n",
       " <catplot.grid_components.edges.Edge2D at 0x10c75d5c0>,\n",
       " <catplot.grid_components.edges.Edge2D at 0x109d28898>,\n",
       " <catplot.grid_components.edges.Edge2D at 0x10c75d978>,\n",
       " <catplot.grid_components.edges.Edge2D at 0x10c75d9b0>,\n",
       " <catplot.grid_components.edges.Edge2D at 0x10c75d9e8>,\n",
       " <catplot.grid_components.edges.Edge2D at 0x10cd9def0>,\n",
       " <catplot.grid_components.edges.Edge2D at 0x10cd9df98>,\n",
       " <catplot.grid_components.edges.Edge2D at 0x10cd9d278>,\n",
       " <catplot.grid_components.edges.Edge2D at 0x10cd9d1d0>,\n",
       " <catplot.grid_components.edges.Edge2D at 0x10cd9d358>,\n",
       " <catplot.grid_components.edges.Edge2D at 0x10cd9d518>,\n",
       " <catplot.grid_components.edges.Edge2D at 0x10cd9d550>,\n",
       " <catplot.grid_components.edges.Edge2D at 0x10cd9d198>]"
      ]
     },
     "execution_count": 20,
     "metadata": {},
     "output_type": "execute_result"
    }
   ],
   "source": [
    "canvas.edges"
   ]
  },
  {
   "cell_type": "code",
   "execution_count": 21,
   "metadata": {},
   "outputs": [
    {
     "data": {
      "image/png": "[encoded data removed]",
      "text/plain": [
       "<matplotlib.figure.Figure at 0x10c75d860>"
      ]
     },
     "execution_count": 21,
     "metadata": {},
     "output_type": "execute_result"
    }
   ],
   "source": [
    "canvas.draw()\n",
    "canvas.figure"
   ]
  }
 ],
 "metadata": {
  "kernelspec": {
   "display_name": "Python 3",
   "language": "python",
   "name": "python3"
  },
  "language_info": {
   "codemirror_mode": {
    "name": "ipython",
    "version": 3
   },
   "file_extension": ".py",
   "mimetype": "text/x-python",
   "name": "python",
   "nbconvert_exporter": "python",
   "pygments_lexer": "ipython3",
   "version": "3.5.3"
  }
 },
 "nbformat": 4,
 "nbformat_minor": 2
}
