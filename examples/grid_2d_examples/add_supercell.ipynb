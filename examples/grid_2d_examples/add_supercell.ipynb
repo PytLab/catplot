{
 "cells": [
  {
   "cell_type": "code",
   "execution_count": 1,
   "metadata": {
    "collapsed": true
   },
   "outputs": [],
   "source": [
    "%matplotlib inline"
   ]
  },
  {
   "cell_type": "markdown",
   "metadata": {},
   "source": [
    "# 添加 SuperCell"
   ]
  },
  {
   "cell_type": "code",
   "execution_count": 2,
   "metadata": {
    "collapsed": true
   },
   "outputs": [],
   "source": [
    "from catplot.grid_components.supercell import SuperCell\n",
    "from catplot.grid_components.nodes import Node2D\n",
    "from catplot.grid_components.edges import Edge2D"
   ]
  },
  {
   "cell_type": "markdown",
   "metadata": {},
   "source": [
    "## 创建Nodes"
   ]
  },
  {
   "cell_type": "markdown",
   "metadata": {},
   "source": [
    "### 创建四个top位Node"
   ]
  },
  {
   "cell_type": "code",
   "execution_count": 3,
   "metadata": {
    "collapsed": true
   },
   "outputs": [],
   "source": [
    "t1 = Node2D([0.0, 0.0], color=\"#2277D1\")"
   ]
  },
  {
   "cell_type": "code",
   "execution_count": 4,
   "metadata": {
    "collapsed": true
   },
   "outputs": [],
   "source": [
    "t2 = t1.clone([0.0, 1.0])\n",
    "t3 = t2.clone([1.0, 0.0])\n",
    "t4 = t1.clone([1.0, 0.0])"
   ]
  },
  {
   "cell_type": "markdown",
   "metadata": {},
   "source": [
    "### 创建四个bridge位Node"
   ]
  },
  {
   "cell_type": "code",
   "execution_count": 5,
   "metadata": {
    "collapsed": true
   },
   "outputs": [],
   "source": [
    "b1 = Node2D([0.0, 0.5], color=\"#F87D05\", style=\"v\")"
   ]
  },
  {
   "cell_type": "code",
   "execution_count": 6,
   "metadata": {
    "collapsed": true
   },
   "outputs": [],
   "source": [
    "b2 = b1.clone([0.5, 0.5])\n",
    "b3 = b1.clone([0.5, -0.5])\n",
    "b4 = b1.clone([1.0, 0.0])"
   ]
  },
  {
   "cell_type": "markdown",
   "metadata": {},
   "source": [
    "### 创建一个hollow位Node"
   ]
  },
  {
   "cell_type": "code",
   "execution_count": 7,
   "metadata": {
    "collapsed": true
   },
   "outputs": [],
   "source": [
    "h = Node2D([0.5, 0.5], color=\"#008800\", style=\"s\")"
   ]
  },
  {
   "cell_type": "markdown",
   "metadata": {},
   "source": [
    "## 创建edges"
   ]
  },
  {
   "cell_type": "code",
   "execution_count": 8,
   "metadata": {
    "collapsed": true
   },
   "outputs": [],
   "source": [
    "from catplot.grid_components.edges import Edge2D"
   ]
  },
  {
   "cell_type": "code",
   "execution_count": 9,
   "metadata": {
    "collapsed": true
   },
   "outputs": [],
   "source": [
    "e1 = Edge2D(t1, t2)\n",
    "e2 = Edge2D(t2, t3)\n",
    "e3 = Edge2D(t3, t4)\n",
    "e4 = Edge2D(t1, t4)"
   ]
  },
  {
   "cell_type": "code",
   "execution_count": 10,
   "metadata": {
    "collapsed": true
   },
   "outputs": [],
   "source": [
    "e5 = Edge2D(b1, b2, style=\"dashed\")\n",
    "e6 = Edge2D(b1, b3, style=\"dashed\")\n",
    "e7 = Edge2D(b2, b4, style=\"dashed\")\n",
    "e8 = Edge2D(b3, b4, style=\"dashed\")"
   ]
  },
  {
   "cell_type": "markdown",
   "metadata": {},
   "source": [
    "## 创建supercell"
   ]
  },
  {
   "cell_type": "code",
   "execution_count": 11,
   "metadata": {
    "collapsed": true
   },
   "outputs": [],
   "source": [
    "from catplot.grid_components.supercell import SuperCell"
   ]
  },
  {
   "cell_type": "code",
   "execution_count": 12,
   "metadata": {},
   "outputs": [],
   "source": [
    "supercell = SuperCell([t1, t2, t3, t4, b1, b2, b3, b4, h],\n",
    "                      [e1, e2, e3, e4, e5, e6, e7, e8])"
   ]
  },
  {
   "cell_type": "markdown",
   "metadata": {},
   "source": [
    "## 创建画布"
   ]
  },
  {
   "cell_type": "code",
   "execution_count": 13,
   "metadata": {
    "collapsed": true
   },
   "outputs": [],
   "source": [
    "from catplot.grid_components.grid_canvas import Grid2DCanvas"
   ]
  },
  {
   "cell_type": "code",
   "execution_count": 14,
   "metadata": {},
   "outputs": [
    {
     "data": {
      "image/png": "[encoded data removed]",
      "text/plain": [
       "<matplotlib.figure.Figure at 0x10aa15da0>"
      ]
     },
     "metadata": {},
     "output_type": "display_data"
    }
   ],
   "source": [
    "canvas = Grid2DCanvas()"
   ]
  },
  {
   "cell_type": "markdown",
   "metadata": {},
   "source": [
    "## 向画布中添加supercell"
   ]
  },
  {
   "cell_type": "code",
   "execution_count": 15,
   "metadata": {},
   "outputs": [],
   "source": [
    "canvas.add_supercell(supercell=supercell)"
   ]
  },
  {
   "cell_type": "markdown",
   "metadata": {},
   "source": [
    "## 绘制"
   ]
  },
  {
   "cell_type": "code",
   "execution_count": 16,
   "metadata": {},
   "outputs": [
    {
     "data": {
      "image/png": "[encoded data removed]",
      "text/plain": [
       "<matplotlib.figure.Figure at 0x10aa15da0>"
      ]
     },
     "execution_count": 16,
     "metadata": {},
     "output_type": "execute_result"
    }
   ],
   "source": [
    "canvas.draw()\n",
    "canvas.figure"
   ]
  },
  {
   "cell_type": "markdown",
   "metadata": {},
   "source": [
    "## 克隆supercell"
   ]
  },
  {
   "cell_type": "code",
   "execution_count": 17,
   "metadata": {
    "collapsed": true
   },
   "outputs": [],
   "source": [
    "supercell_clone = supercell.clone([1.0, 0.0])"
   ]
  },
  {
   "cell_type": "code",
   "execution_count": 18,
   "metadata": {
    "collapsed": true
   },
   "outputs": [],
   "source": [
    "canvas.add_supercell(supercell_clone)"
   ]
  },
  {
   "cell_type": "code",
   "execution_count": 19,
   "metadata": {},
   "outputs": [
    {
     "data": {
      "text/plain": [
       "[<catplot.grid_components.nodes.Node2D at 0x10aa05828>,\n",
       " <catplot.grid_components.nodes.Node2D at 0x10aa05898>,\n",
       " <catplot.grid_components.nodes.Node2D at 0x10aa057b8>,\n",
       " <catplot.grid_components.nodes.Node2D at 0x10aa05908>,\n",
       " <catplot.grid_components.nodes.Node2D at 0x10aa05978>,\n",
       " <catplot.grid_components.nodes.Node2D at 0x10aa059e8>,\n",
       " <catplot.grid_components.nodes.Node2D at 0x10aa05a58>,\n",
       " <catplot.grid_components.nodes.Node2D at 0x10aa05ac8>,\n",
       " <catplot.grid_components.nodes.Node2D at 0x10aa05b38>,\n",
       " <catplot.grid_components.nodes.Node2D at 0x10aa05748>,\n",
       " <catplot.grid_components.nodes.Node2D at 0x10b058048>,\n",
       " <catplot.grid_components.nodes.Node2D at 0x10b0580b8>,\n",
       " <catplot.grid_components.nodes.Node2D at 0x10b058128>,\n",
       " <catplot.grid_components.nodes.Node2D at 0x10b058198>,\n",
       " <catplot.grid_components.nodes.Node2D at 0x10b058208>,\n",
       " <catplot.grid_components.nodes.Node2D at 0x10b058278>,\n",
       " <catplot.grid_components.nodes.Node2D at 0x10b0582e8>,\n",
       " <catplot.grid_components.nodes.Node2D at 0x10b058358>]"
      ]
     },
     "execution_count": 19,
     "metadata": {},
     "output_type": "execute_result"
    }
   ],
   "source": [
    "canvas.nodes"
   ]
  },
  {
   "cell_type": "code",
   "execution_count": 20,
   "metadata": {},
   "outputs": [
    {
     "data": {
      "text/plain": [
       "[<catplot.grid_components.edges.Edge2D at 0x10aa15fd0>,\n",
       " <catplot.grid_components.edges.Edge2D at 0x10aa15f98>,\n",
       " <catplot.grid_components.edges.Edge2D at 0x10af490b8>,\n",
       " <catplot.grid_components.edges.Edge2D at 0x10af490f0>,\n",
       " <catplot.grid_components.edges.Edge2D at 0x10af494a8>,\n",
       " <catplot.grid_components.edges.Edge2D at 0x10af49470>,\n",
       " <catplot.grid_components.edges.Edge2D at 0x10af494e0>,\n",
       " <catplot.grid_components.edges.Edge2D at 0x10af49518>,\n",
       " <catplot.grid_components.edges.Edge2D at 0x10b001da0>,\n",
       " <catplot.grid_components.edges.Edge2D at 0x10b001dd8>,\n",
       " <catplot.grid_components.edges.Edge2D at 0x10b001908>,\n",
       " <catplot.grid_components.edges.Edge2D at 0x10b001780>,\n",
       " <catplot.grid_components.edges.Edge2D at 0x10b001518>,\n",
       " <catplot.grid_components.edges.Edge2D at 0x10b03dcf8>,\n",
       " <catplot.grid_components.edges.Edge2D at 0x10b03dd30>,\n",
       " <catplot.grid_components.edges.Edge2D at 0x10b03da20>]"
      ]
     },
     "execution_count": 20,
     "metadata": {},
     "output_type": "execute_result"
    }
   ],
   "source": [
    "canvas.edges"
   ]
  },
  {
   "cell_type": "code",
   "execution_count": 21,
   "metadata": {},
   "outputs": [
    {
     "data": {
      "image/png": "[encoded data removed]",
      "text/plain": [
       "<matplotlib.figure.Figure at 0x10aa15da0>"
      ]
     },
     "execution_count": 21,
     "metadata": {},
     "output_type": "execute_result"
    }
   ],
   "source": [
    "canvas.draw()\n",
    "canvas.figure"
   ]
  }
 ],
 "metadata": {
  "kernelspec": {
   "display_name": "Python 3",
   "language": "python",
   "name": "python3"
  },
  "language_info": {
   "codemirror_mode": {
    "name": "ipython",
    "version": 3
   },
   "file_extension": ".py",
   "mimetype": "text/x-python",
   "name": "python",
   "nbconvert_exporter": "python",
   "pygments_lexer": "ipython3",
   "version": "3.5.3"
  }
 },
 "nbformat": 4,
 "nbformat_minor": 2
}
