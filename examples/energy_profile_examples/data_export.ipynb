{
 "cells": [
  {
   "cell_type": "code",
   "execution_count": 1,
   "metadata": {
    "collapsed": true
   },
   "outputs": [],
   "source": [
    "%matplotlib inline"
   ]
  },
  {
   "cell_type": "markdown",
   "metadata": {},
   "source": [
    "# 导出线和链中的数据"
   ]
  },
  {
   "cell_type": "code",
   "execution_count": 2,
   "metadata": {
    "collapsed": true
   },
   "outputs": [],
   "source": [
    "from catplot.ep_components.ep_canvas import EPCanvas\n",
    "from catplot.ep_components.ep_lines import ElementaryLine\n",
    "from catplot.ep_components.ep_chain import EPChain"
   ]
  },
  {
   "cell_type": "markdown",
   "metadata": {},
   "source": [
    "## 创建两条线"
   ]
  },
  {
   "cell_type": "code",
   "execution_count": 3,
   "metadata": {
    "collapsed": true
   },
   "outputs": [],
   "source": [
    "line1 = ElementaryLine([0.0, 1.2, 0.7], n=2)  # 是数据少一点，这里n=2\n",
    "line2 = ElementaryLine([0.0, 0.5], n=2)"
   ]
  },
  {
   "cell_type": "markdown",
   "metadata": {},
   "source": [
    "## 将`line1`中的数据导出到`line1.csv`中"
   ]
  },
  {
   "cell_type": "code",
   "execution_count": 4,
   "metadata": {
    "collapsed": true
   },
   "outputs": [],
   "source": [
    "line1.export(\"line1.csv\")"
   ]
  },
  {
   "cell_type": "code",
   "execution_count": 5,
   "metadata": {},
   "outputs": [
    {
     "name": "stdout",
     "output_type": "stream",
     "text": [
      "0.0,0.0\r",
      "\r\n",
      "1.0,0.0\r",
      "\r\n",
      "1.0,-3.44265545486e-18\r",
      "\r\n",
      "2.0,0.7\r",
      "\r\n",
      "2.0,0.7\r",
      "\r\n",
      "3.0,0.7\r",
      "\r\n"
     ]
    }
   ],
   "source": [
    "cat line1.csv"
   ]
  },
  {
   "cell_type": "markdown",
   "metadata": {},
   "source": [
    "## 创建链"
   ]
  },
  {
   "cell_type": "code",
   "execution_count": 6,
   "metadata": {
    "collapsed": true
   },
   "outputs": [],
   "source": [
    "chain = EPChain([line1, line2])"
   ]
  },
  {
   "cell_type": "markdown",
   "metadata": {},
   "source": [
    "## 将`chain`中的数据导出到`chain.csv`中"
   ]
  },
  {
   "cell_type": "code",
   "execution_count": 7,
   "metadata": {
    "collapsed": true
   },
   "outputs": [],
   "source": [
    "chain.export(\"chain.csv\")"
   ]
  },
  {
   "cell_type": "code",
   "execution_count": 8,
   "metadata": {},
   "outputs": [
    {
     "name": "stdout",
     "output_type": "stream",
     "text": [
      "0.0,0.0\r",
      "\r\n",
      "1.0,0.0\r",
      "\r\n",
      "1.0,-3.44265545486e-18\r",
      "\r\n",
      "2.0,0.7\r",
      "\r\n",
      "2.0,0.7\r",
      "\r\n",
      "3.0,0.7\r",
      "\r\n",
      "3.0,0.7\r",
      "\r\n",
      "4.0,0.7\r",
      "\r\n",
      "4.0,0.7\r",
      "\r\n",
      "5.0,1.2\r",
      "\r\n",
      "5.0,1.2\r",
      "\r\n",
      "6.0,1.2\r",
      "\r\n"
     ]
    }
   ],
   "source": [
    "cat chain.csv"
   ]
  }
 ],
 "metadata": {
  "kernelspec": {
   "display_name": "Python 3",
   "language": "python",
   "name": "python3"
  },
  "language_info": {
   "codemirror_mode": {
    "name": "ipython",
    "version": 3
   },
   "file_extension": ".py",
   "mimetype": "text/x-python",
   "name": "python",
   "nbconvert_exporter": "python",
   "pygments_lexer": "ipython3",
   "version": "3.5.3"
  }
 },
 "nbformat": 4,
 "nbformat_minor": 2
}
